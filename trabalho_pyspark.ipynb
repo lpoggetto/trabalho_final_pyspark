{
  "nbformat": 4,
  "nbformat_minor": 0,
  "metadata": {
    "colab": {
      "provenance": [],
      "authorship_tag": "ABX9TyO86EzXEUDVMkvmVT5G2adS",
      "include_colab_link": true
    },
    "kernelspec": {
      "name": "python3",
      "display_name": "Python 3"
    },
    "language_info": {
      "name": "python"
    }
  },
  "cells": [
    {
      "cell_type": "markdown",
      "metadata": {
        "id": "view-in-github",
        "colab_type": "text"
      },
      "source": [
        "<a href=\"https://colab.research.google.com/github/lpoggetto/trabalho_final_pyspark/blob/main/trabalho_pyspark.ipynb\" target=\"_parent\"><img src=\"https://colab.research.google.com/assets/colab-badge.svg\" alt=\"Open In Colab\"/></a>"
      ]
    },
    {
      "cell_type": "code",
      "source": [
        "# Instalando spark\n",
        "!pip install pyspark==3.3.1\n",
        "# importando pacotes necessarios\n",
        "import pandas as pd\n",
        "import numpy as np\n",
        "import pyspark.pandas as ps\n",
        "from pyspark.sql import SparkSession\n",
        "from pyspark.sql import functions as F"
      ],
      "metadata": {
        "colab": {
          "base_uri": "https://localhost:8080/"
        },
        "id": "gZhN84jrIXRX",
        "outputId": "2a054a06-d40e-4626-b986-033de89e63b7"
      },
      "execution_count": 1,
      "outputs": [
        {
          "output_type": "stream",
          "name": "stdout",
          "text": [
            "Requirement already satisfied: pyspark==3.3.1 in /usr/local/lib/python3.10/dist-packages (3.3.1)\n",
            "Requirement already satisfied: py4j==0.10.9.5 in /usr/local/lib/python3.10/dist-packages (from pyspark==3.3.1) (0.10.9.5)\n"
          ]
        },
        {
          "output_type": "stream",
          "name": "stderr",
          "text": [
            "WARNING:root:'PYARROW_IGNORE_TIMEZONE' environment variable was not set. It is required to set this environment variable to '1' in both driver and executor sides if you use pyarrow>=2.0.0. pandas-on-Spark will set it for you but it does not work if there is a Spark context already launched.\n"
          ]
        }
      ]
    },
    {
      "cell_type": "code",
      "source": [
        "# iniciando sessao do spark\n",
        "spark = SparkSession.builder \\\n",
        "    .master('local[*]') \\\n",
        "    .appName('Analise de jogos internacionais de futebo') \\\n",
        "    .config('spark.ui.port', '4050') \\\n",
        "    .getOrCreate()"
      ],
      "metadata": {
        "id": "6_6Z7E8OIwyz"
      },
      "execution_count": 2,
      "outputs": []
    },
    {
      "cell_type": "code",
      "source": [
        "# checando sessao\n",
        "spark"
      ],
      "metadata": {
        "colab": {
          "base_uri": "https://localhost:8080/",
          "height": 221
        },
        "id": "x9GG4oxzIyMb",
        "outputId": "bff0f9c3-a562-4562-99f7-a3929e85210a"
      },
      "execution_count": 4,
      "outputs": [
        {
          "output_type": "execute_result",
          "data": {
            "text/plain": [
              "<pyspark.sql.session.SparkSession at 0x7f99ba78f3a0>"
            ],
            "text/html": [
              "\n",
              "            <div>\n",
              "                <p><b>SparkSession - in-memory</b></p>\n",
              "                \n",
              "        <div>\n",
              "            <p><b>SparkContext</b></p>\n",
              "\n",
              "            <p><a href=\"http://3194823f36c8:4050\">Spark UI</a></p>\n",
              "\n",
              "            <dl>\n",
              "              <dt>Version</dt>\n",
              "                <dd><code>v3.3.1</code></dd>\n",
              "              <dt>Master</dt>\n",
              "                <dd><code>local[*]</code></dd>\n",
              "              <dt>AppName</dt>\n",
              "                <dd><code>Analise de jogos internacionais de futebo</code></dd>\n",
              "            </dl>\n",
              "        </div>\n",
              "        \n",
              "            </div>\n",
              "        "
            ]
          },
          "metadata": {},
          "execution_count": 4
        }
      ]
    },
    {
      "cell_type": "code",
      "source": [
        "# Lendo o csv com pandas\n",
        "pandas_df = pd.read_csv('/content/dados_trab.csv')\n",
        "\n",
        "# convertendo o arquivo para PySpark\n",
        "df = spark.createDataFrame(pandas_df.to_dict(orient = 'records'))\n",
        "df"
      ],
      "metadata": {
        "colab": {
          "base_uri": "https://localhost:8080/"
        },
        "id": "DYCVBBhjI1Qy",
        "outputId": "e5c4d193-06ec-4bcd-cfeb-cd6a24618522"
      },
      "execution_count": 6,
      "outputs": [
        {
          "output_type": "execute_result",
          "data": {
            "text/plain": [
              "DataFrame[away_score: bigint, away_team: string, city: string, country: string, date: string, home_score: bigint, home_team: string, neutral: boolean, tournament: string]"
            ]
          },
          "metadata": {},
          "execution_count": 6
        }
      ]
    },
    {
      "cell_type": "code",
      "source": [
        "# visao inicial do dataset\n",
        "df.show()"
      ],
      "metadata": {
        "colab": {
          "base_uri": "https://localhost:8080/"
        },
        "id": "aT8iYABsJum4",
        "outputId": "bbc0d1d6-cd87-4c46-abbe-44f003c2b16f"
      },
      "execution_count": 7,
      "outputs": [
        {
          "output_type": "stream",
          "name": "stdout",
          "text": [
            "+----------+---------+---------+-------------------+----------+----------+----------------+-------+----------+\n",
            "|away_score|away_team|     city|            country|      date|home_score|       home_team|neutral|tournament|\n",
            "+----------+---------+---------+-------------------+----------+----------+----------------+-------+----------+\n",
            "|         0|  England|  Glasgow|           Scotland|1872-11-30|         0|        Scotland|  false|  Friendly|\n",
            "|         2| Scotland|   London|            England|1873-03-08|         4|         England|  false|  Friendly|\n",
            "|         1|  England|  Glasgow|           Scotland|1874-03-07|         2|        Scotland|  false|  Friendly|\n",
            "|         2| Scotland|   London|            England|1875-03-06|         2|         England|  false|  Friendly|\n",
            "|         0|  England|  Glasgow|           Scotland|1876-03-04|         3|        Scotland|  false|  Friendly|\n",
            "|         0|    Wales|  Glasgow|           Scotland|1876-03-25|         4|        Scotland|  false|  Friendly|\n",
            "|         3| Scotland|   London|            England|1877-03-03|         1|         England|  false|  Friendly|\n",
            "|         2| Scotland|  Wrexham|              Wales|1877-03-05|         0|           Wales|  false|  Friendly|\n",
            "|         2|  England|  Glasgow|           Scotland|1878-03-02|         7|        Scotland|  false|  Friendly|\n",
            "|         0|    Wales|  Glasgow|           Scotland|1878-03-23|         9|        Scotland|  false|  Friendly|\n",
            "|         1|    Wales|   London|            England|1879-01-18|         2|         England|  false|  Friendly|\n",
            "|         4| Scotland|   London|            England|1879-04-05|         5|         England|  false|  Friendly|\n",
            "|         3| Scotland|  Wrexham|              Wales|1879-04-07|         0|           Wales|  false|  Friendly|\n",
            "|         4|  England|  Glasgow|           Scotland|1880-03-13|         5|        Scotland|  false|  Friendly|\n",
            "|         3|  England|  Wrexham|              Wales|1880-03-15|         2|           Wales|  false|  Friendly|\n",
            "|         1|    Wales|  Glasgow|           Scotland|1880-03-27|         5|        Scotland|  false|  Friendly|\n",
            "|         1|    Wales|Blackburn|            England|1881-02-26|         0|         England|  false|  Friendly|\n",
            "|         6| Scotland|   London|            England|1881-03-12|         1|         England|  false|  Friendly|\n",
            "|         5| Scotland|  Wrexham|              Wales|1881-03-14|         1|           Wales|  false|  Friendly|\n",
            "|        13|  England|  Belfast|Republic of Ireland|1882-02-18|         0|Northern Ireland|  false|  Friendly|\n",
            "+----------+---------+---------+-------------------+----------+----------+----------------+-------+----------+\n",
            "only showing top 20 rows\n",
            "\n"
          ]
        }
      ]
    },
    {
      "cell_type": "code",
      "source": [
        "# printando o schema da tabela\n",
        "df.printSchema()"
      ],
      "metadata": {
        "colab": {
          "base_uri": "https://localhost:8080/"
        },
        "id": "4G4Z9amYKwMp",
        "outputId": "2c66badd-7225-4a36-b65b-f23d718455da"
      },
      "execution_count": 8,
      "outputs": [
        {
          "output_type": "stream",
          "name": "stdout",
          "text": [
            "root\n",
            " |-- away_score: long (nullable = true)\n",
            " |-- away_team: string (nullable = true)\n",
            " |-- city: string (nullable = true)\n",
            " |-- country: string (nullable = true)\n",
            " |-- date: string (nullable = true)\n",
            " |-- home_score: long (nullable = true)\n",
            " |-- home_team: string (nullable = true)\n",
            " |-- neutral: boolean (nullable = true)\n",
            " |-- tournament: string (nullable = true)\n",
            "\n"
          ]
        }
      ]
    },
    {
      "cell_type": "markdown",
      "source": [
        "### 1 - Quantos registros existem na base?\n",
        "\n",
        "R: A base conta com 40839 registros\n",
        "\n"
      ],
      "metadata": {
        "id": "N4LKr0v6QvPU"
      }
    },
    {
      "cell_type": "code",
      "source": [
        "df.count()"
      ],
      "metadata": {
        "colab": {
          "base_uri": "https://localhost:8080/"
        },
        "id": "EMH_Vs9BKxXP",
        "outputId": "55be02ac-c01f-4962-e237-97316b3996dc"
      },
      "execution_count": 10,
      "outputs": [
        {
          "output_type": "execute_result",
          "data": {
            "text/plain": [
              "40839"
            ]
          },
          "metadata": {},
          "execution_count": 10
        }
      ]
    },
    {
      "cell_type": "markdown",
      "source": [
        "### 2 - Quantas equipes únicas mandantes existem na base?\n",
        "\n",
        "R: 309 equipes mandantes unicas"
      ],
      "metadata": {
        "id": "F6FuqCwFQ_T2"
      }
    },
    {
      "cell_type": "code",
      "source": [
        "df.select('home_team').distinct().count()"
      ],
      "metadata": {
        "colab": {
          "base_uri": "https://localhost:8080/"
        },
        "id": "l8Sq2aCSQxet",
        "outputId": "ff5a120a-336d-4be7-f384-7df347cd3c47"
      },
      "execution_count": 12,
      "outputs": [
        {
          "output_type": "execute_result",
          "data": {
            "text/plain": [
              "309"
            ]
          },
          "metadata": {},
          "execution_count": 12
        }
      ]
    },
    {
      "cell_type": "markdown",
      "source": [
        "### 3 - Quantas vezes as equipes mandantes saíram vitoriosas?\n",
        "\n",
        "R: As equipes mandantes foram vitoriosas 19.864 vezes ou seja, em 48% das partidas"
      ],
      "metadata": {
        "id": "0OiVCG1ERZkD"
      }
    },
    {
      "cell_type": "code",
      "source": [
        "df.select('home_team', 'home_score', 'away_score').filter(df.home_score > df.away_score).count()"
      ],
      "metadata": {
        "colab": {
          "base_uri": "https://localhost:8080/"
        },
        "id": "CIThnNCJRRXZ",
        "outputId": "7c8a9c96-5468-466c-9a5a-cff214fad4f0"
      },
      "execution_count": 13,
      "outputs": [
        {
          "output_type": "execute_result",
          "data": {
            "text/plain": [
              "19864"
            ]
          },
          "metadata": {},
          "execution_count": 13
        }
      ]
    },
    {
      "cell_type": "markdown",
      "source": [
        "### 4 - Quantas vezes as equipes visitantes saíram vitoriosas?\n",
        "\n",
        "R: As equipes visitantes foram vitoriosas 11.544 vezes ou seja, em 28% das partidas"
      ],
      "metadata": {
        "id": "nkiD-GS7RufV"
      }
    },
    {
      "cell_type": "code",
      "source": [
        "df.select('home_team', 'home_score', 'away_score').filter(df.home_score < df.away_score).count()"
      ],
      "metadata": {
        "colab": {
          "base_uri": "https://localhost:8080/"
        },
        "id": "HJQiZrNlRo40",
        "outputId": "44dd0c87-d8c7-45a4-d449-297736b2024e"
      },
      "execution_count": 14,
      "outputs": [
        {
          "output_type": "execute_result",
          "data": {
            "text/plain": [
              "11544"
            ]
          },
          "metadata": {},
          "execution_count": 14
        }
      ]
    },
    {
      "cell_type": "markdown",
      "source": [
        "### 5 - Quantas partidas resultaram em empate?\n",
        "\n",
        "R: 9431 partidas resultaram em um empate, ou seja, 23% das partidas."
      ],
      "metadata": {
        "id": "Zt_SrqE_R6oL"
      }
    },
    {
      "cell_type": "code",
      "source": [
        "df.select('home_team', 'home_score', 'away_score').filter(df.home_score == df.away_score).count()"
      ],
      "metadata": {
        "colab": {
          "base_uri": "https://localhost:8080/"
        },
        "id": "SLlMTg-KR9bt",
        "outputId": "2f59a865-6f8f-46e2-a6f7-fd6415b30ae5"
      },
      "execution_count": 16,
      "outputs": [
        {
          "output_type": "execute_result",
          "data": {
            "text/plain": [
              "9431"
            ]
          },
          "metadata": {},
          "execution_count": 16
        }
      ]
    },
    {
      "cell_type": "markdown",
      "source": [
        "### 6 - Quantas partidas foram realizadas em cada país?"
      ],
      "metadata": {
        "id": "Zd3KLEkeSYZF"
      }
    },
    {
      "cell_type": "code",
      "source": [
        "print('Listando todos as partidas por País')\n",
        "df.select('country') \\\n",
        "  .groupBy('country') \\\n",
        "  .count() \\\n",
        "  .orderBy('count', ascending = False) \\\n",
        "  .show(n = 100000, truncate = False)"
      ],
      "metadata": {
        "colab": {
          "base_uri": "https://localhost:8080/"
        },
        "id": "2mo8V5uHSHML",
        "outputId": "720f0100-449e-464f-d137-304c97193d99"
      },
      "execution_count": 27,
      "outputs": [
        {
          "output_type": "stream",
          "name": "stdout",
          "text": [
            "Listando todos as partidas por País\n",
            "+--------------------------------+-----+\n",
            "|country                         |count|\n",
            "+--------------------------------+-----+\n",
            "|United States                   |1144 |\n",
            "|France                          |801  |\n",
            "|England                         |687  |\n",
            "|Malaysia                        |644  |\n",
            "|Sweden                          |637  |\n",
            "|Germany                         |581  |\n",
            "|Brazil                          |529  |\n",
            "|Spain                           |517  |\n",
            "|Thailand                        |483  |\n",
            "|Italy                           |480  |\n",
            "|Switzerland                     |477  |\n",
            "|Austria                         |475  |\n",
            "|United Arab Emirates            |472  |\n",
            "|South Africa                    |470  |\n",
            "|Qatar                           |467  |\n",
            "|South Korea                     |453  |\n",
            "|Argentina                       |449  |\n",
            "|Hungary                         |431  |\n",
            "|Chile                           |405  |\n",
            "|Belgium                         |396  |\n",
            "|Mexico                          |392  |\n",
            "|Egypt                           |391  |\n",
            "|Netherlands                     |390  |\n",
            "|Norway                          |385  |\n",
            "|Scotland                        |385  |\n",
            "|Uruguay                         |374  |\n",
            "|Poland                          |372  |\n",
            "|Denmark                         |371  |\n",
            "|Trinidad and Tobago             |369  |\n",
            "|Singapore                       |368  |\n",
            "|Saudi Arabia                    |367  |\n",
            "|Kuwait                          |355  |\n",
            "|Portugal                        |355  |\n",
            "|Tunisia                         |351  |\n",
            "|Kenya                           |349  |\n",
            "|Japan                           |344  |\n",
            "|Finland                         |325  |\n",
            "|Wales                           |324  |\n",
            "|Republic of Ireland             |324  |\n",
            "|Uganda                          |307  |\n",
            "|China PR                        |304  |\n",
            "|Peru                            |297  |\n",
            "|Morocco                         |296  |\n",
            "|Tanzania                        |294  |\n",
            "|Australia                       |294  |\n",
            "|Turkey                          |294  |\n",
            "|Romania                         |286  |\n",
            "|Indonesia                       |285  |\n",
            "|Malawi                          |284  |\n",
            "|Greece                          |283  |\n",
            "|Jamaica                         |276  |\n",
            "|Costa Rica                      |268  |\n",
            "|Cyprus                          |266  |\n",
            "|Ethiopia                        |261  |\n",
            "|Bulgaria                        |261  |\n",
            "|Iran                            |255  |\n",
            "|India                           |253  |\n",
            "|Malta                           |251  |\n",
            "|Oman                            |251  |\n",
            "|Ghana                           |247  |\n",
            "|Northern Ireland                |243  |\n",
            "|Zambia                          |241  |\n",
            "|Jordan                          |236  |\n",
            "|Bahrain                         |234  |\n",
            "|Honduras                        |228  |\n",
            "|Gabon                           |224  |\n",
            "|Israel                          |222  |\n",
            "|Ivory Coast                     |221  |\n",
            "|Luxembourg                      |219  |\n",
            "|Paraguay                        |218  |\n",
            "|Yugoslavia                      |217  |\n",
            "|Estonia                         |212  |\n",
            "|Hong Kong                       |210  |\n",
            "|Russia                          |209  |\n",
            "|Nigeria                         |206  |\n",
            "|Ecuador                         |206  |\n",
            "|Senegal                         |202  |\n",
            "|Haiti                           |198  |\n",
            "|Mali                            |198  |\n",
            "|Algeria                         |198  |\n",
            "|Czechoslovakia                  |194  |\n",
            "|Bolivia                         |193  |\n",
            "|Iceland                         |191  |\n",
            "|Colombia                        |188  |\n",
            "|Guatemala                       |185  |\n",
            "|Panama                          |182  |\n",
            "|El Salvador                     |180  |\n",
            "|Zimbabwe                        |170  |\n",
            "|Venezuela                       |170  |\n",
            "|Congo                           |164  |\n",
            "|Soviet Union                    |164  |\n",
            "|Cameroon                        |164  |\n",
            "|Libya                           |163  |\n",
            "|Latvia                          |161  |\n",
            "|Albania                         |159  |\n",
            "|Burkina Faso                    |158  |\n",
            "|Lebanon                         |158  |\n",
            "|Rwanda                          |157  |\n",
            "|Sudan                           |157  |\n",
            "|Angola                          |153  |\n",
            "|Iraq                            |146  |\n",
            "|Barbados                        |146  |\n",
            "|Martinique                      |143  |\n",
            "|New Zealand                     |139  |\n",
            "|Fiji                            |139  |\n",
            "|Togo                            |136  |\n",
            "|Lithuania                       |134  |\n",
            "|Botswana                        |134  |\n",
            "|Mozambique                      |134  |\n",
            "|Suriname                        |131  |\n",
            "|Liberia                         |131  |\n",
            "|Guinea                          |130  |\n",
            "|Ukraine                         |130  |\n",
            "|German DR                       |129  |\n",
            "|Canada                          |128  |\n",
            "|Vietnam                         |125  |\n",
            "|Croatia                         |125  |\n",
            "|Slovakia                        |123  |\n",
            "|New Caledonia                   |123  |\n",
            "|Gambia                          |122  |\n",
            "|Georgia                         |122  |\n",
            "|Sierra Leone                    |121  |\n",
            "|Czech Republic                  |119  |\n",
            "|Eswatini                        |114  |\n",
            "|Saint Kitts and Nevis           |108  |\n",
            "|Namibia                         |108  |\n",
            "|Bangladesh                      |108  |\n",
            "|North Macedonia                 |108  |\n",
            "|Slovenia                        |106  |\n",
            "|Azerbaijan                      |105  |\n",
            "|Equatorial Guinea               |104  |\n",
            "|Syria                           |104  |\n",
            "|Uzbekistan                      |104  |\n",
            "|Benin                           |102  |\n",
            "|Antigua and Barbuda             |101  |\n",
            "|Faroe Islands                   |101  |\n",
            "|Lesotho                         |99   |\n",
            "|Guyana                          |98   |\n",
            "|Grenada                         |98   |\n",
            "|Malaya                          |95   |\n",
            "|Nepal                           |95   |\n",
            "|Madagascar                      |94   |\n",
            "|Liechtenstein                   |89   |\n",
            "|Belarus                         |88   |\n",
            "|Mauritania                      |88   |\n",
            "|Guadeloupe                      |88   |\n",
            "|Mauritius                       |86   |\n",
            "|Saint Lucia                     |86   |\n",
            "|Armenia                         |84   |\n",
            "|Philippines                     |83   |\n",
            "|Bermuda                         |82   |\n",
            "|Bosnia and Herzegovina          |82   |\n",
            "|Niger                           |81   |\n",
            "|Kazakhstan                      |81   |\n",
            "|Burma                           |79   |\n",
            "|Moldova                         |79   |\n",
            "|Cambodia                        |78   |\n",
            "|DR Congo                        |78   |\n",
            "|French Polynesia                |77   |\n",
            "|San Marino                      |77   |\n",
            "|Cuba                            |76   |\n",
            "|Cape Verde                      |76   |\n",
            "|Maldives                        |73   |\n",
            "|Netherlands Antilles            |73   |\n",
            "|Vietnam Republic                |72   |\n",
            "|Samoa                           |72   |\n",
            "|Jersey                          |68   |\n",
            "|Solomon Islands                 |66   |\n",
            "|Pakistan                        |66   |\n",
            "|Guinea-Bissau                   |64   |\n",
            "|Andorra                         |62   |\n",
            "|Dominica                        |61   |\n",
            "|Zaïre                           |59   |\n",
            "|Papua New Guinea                |59   |\n",
            "|Saint Vincent and the Grenadines|59   |\n",
            "|Sri Lanka                       |59   |\n",
            "|Yemen                           |58   |\n",
            "|Vanuatu                         |58   |\n",
            "|Curaçao                         |57   |\n",
            "|French Guiana                   |55   |\n",
            "|Puerto Rico                     |54   |\n",
            "|North Korea                     |54   |\n",
            "|Cayman Islands                  |52   |\n",
            "|Aruba                           |50   |\n",
            "|Montenegro                      |49   |\n",
            "|Macau                           |48   |\n",
            "|Dominican Republic              |48   |\n",
            "|Laos                            |48   |\n",
            "|Réunion                         |47   |\n",
            "|Chinese Taipei                  |47   |\n",
            "|Tajikistan                      |46   |\n",
            "|Serbia                          |45   |\n",
            "|Burundi                         |43   |\n",
            "|Guernsey                        |41   |\n",
            "|Seychelles                      |40   |\n",
            "|Chad                            |40   |\n",
            "|Guam                            |40   |\n",
            "|Northern Cyprus                 |35   |\n",
            "|Zanzibar                        |34   |\n",
            "|Turkmenistan                    |33   |\n",
            "|Kyrgyzstan                      |32   |\n",
            "|Central African Republic        |31   |\n",
            "|Gibraltar                       |30   |\n",
            "|British Virgin Islands          |29   |\n",
            "|Netherlands Guyana              |29   |\n",
            "|Tanganyika                      |28   |\n",
            "|British Guyana                  |28   |\n",
            "|Western Samoa                   |27   |\n",
            "|Nicaragua                       |26   |\n",
            "|Isle of Man                     |24   |\n",
            "|Upper Volta                     |22   |\n",
            "|Djibouti                        |21   |\n",
            "|Somalia                         |17   |\n",
            "|Belize                          |17   |\n",
            "|São Tomé and Príncipe           |17   |\n",
            "|Palestine                       |16   |\n",
            "|Dahomey                         |16   |\n",
            "|Eritrea                         |16   |\n",
            "|Northern Rhodesia               |15   |\n",
            "|U.S. Virgin Islands             |15   |\n",
            "|Comoros                         |15   |\n",
            "|Bhutan                          |14   |\n",
            "|Mongolia                        |13   |\n",
            "|Anguilla                        |12   |\n",
            "|Tonga                           |12   |\n",
            "|Bahamas                         |12   |\n",
            "|Serbia and Montenegro           |11   |\n",
            "|Saint Martin                    |11   |\n",
            "|United Arab Republic            |11   |\n",
            "|Southern Rhodesia               |11   |\n",
            "|Kosovo                          |11   |\n",
            "|Sint Maarten                    |10   |\n",
            "|Cook Islands                    |10   |\n",
            "|Irish Free State                |9    |\n",
            "|Brunei                          |9    |\n",
            "|South Sudan                     |9    |\n",
            "|Afghanistan                     |8    |\n",
            "|Ceylon                          |8    |\n",
            "|Éire                            |7    |\n",
            "|Vietnam DR                      |7    |\n",
            "|Gold Coast                      |6    |\n",
            "|Rhodesia                        |6    |\n",
            "|Saarland                        |6    |\n",
            "|Monaco                          |5    |\n",
            "|Yemen AR                        |5    |\n",
            "|Manchuria                       |5    |\n",
            "|Myanmar                         |5    |\n",
            "|Montserrat                      |5    |\n",
            "|Nyasaland                       |4    |\n",
            "|French Somaliland               |4    |\n",
            "|East Timor                      |4    |\n",
            "|Bohemia                         |3    |\n",
            "|Northern Mariana Islands        |3    |\n",
            "|Palau                           |3    |\n",
            "|New Hebrides                    |3    |\n",
            "|Turks and Caicos Islands        |2    |\n",
            "|Tahiti                          |2    |\n",
            "|Yemen DPR                       |2    |\n",
            "|Mayotte                         |2    |\n",
            "|Greenland                       |2    |\n",
            "|Belgian Congo                   |1    |\n",
            "|Lautoka                         |1    |\n",
            "|Portuguese Guinea               |1    |\n",
            "|Mali Federation                 |1    |\n",
            "|Bohemia and Moravia             |1    |\n",
            "|Micronesia                      |1    |\n",
            "+--------------------------------+-----+\n",
            "\n"
          ]
        }
      ]
    },
    {
      "cell_type": "markdown",
      "source": [
        "### 7 - Qual país teve mais partidas?\n",
        "\n",
        "R: O País com a maior qtd. de partidas é os Estados Unidos com 1144 partidas."
      ],
      "metadata": {
        "id": "Yb1kSLjjTb_I"
      }
    },
    {
      "cell_type": "code",
      "source": [
        "df.select('country') \\\n",
        "  .groupBy('country') \\\n",
        "  .count() \\\n",
        "  .orderBy('count', ascending = False) \\\n",
        "  .limit(1) \\\n",
        "  .show()"
      ],
      "metadata": {
        "colab": {
          "base_uri": "https://localhost:8080/"
        },
        "id": "ESfC49TSSbgj",
        "outputId": "e2c61401-551f-45cc-ffd6-5105da263d96"
      },
      "execution_count": 28,
      "outputs": [
        {
          "output_type": "stream",
          "name": "stdout",
          "text": [
            "+-------------+-----+\n",
            "|      country|count|\n",
            "+-------------+-----+\n",
            "|United States| 1144|\n",
            "+-------------+-----+\n",
            "\n"
          ]
        }
      ]
    },
    {
      "cell_type": "markdown",
      "source": [
        "### 8 - Qual a partida com maior número de gols?\n",
        "\n",
        "R: A partida com o maior número de gols foi um jogo de Austrália vs Samoa Americana com um total de 31 gols"
      ],
      "metadata": {
        "id": "LTn_iJoYTlom"
      }
    },
    {
      "cell_type": "code",
      "source": [
        "# Calculando soma dos gols para as partidas\n",
        "soma_de_gols = df.withColumn(\"score_sum\", df[\"home_score\"] + df[\"away_score\"])\n",
        "\n",
        "# Select relevant columns and order by the sum in descending order\n",
        "result = soma_de_gols.select('home_team', 'away_team', 'home_score', 'away_score', 'score_sum') \\\n",
        "    .orderBy('score_sum', ascending=False) \\\n",
        "    .limit(1)\n",
        "\n",
        "# Show the result\n",
        "result.show()"
      ],
      "metadata": {
        "colab": {
          "base_uri": "https://localhost:8080/"
        },
        "id": "V8cR7EeRTf28",
        "outputId": "17c05a02-d691-46e4-c7c0-3e81abdd99d0"
      },
      "execution_count": 38,
      "outputs": [
        {
          "output_type": "stream",
          "name": "stdout",
          "text": [
            "+---------+--------------+----------+----------+---------+\n",
            "|home_team|     away_team|home_score|away_score|score_sum|\n",
            "+---------+--------------+----------+----------+---------+\n",
            "|Australia|American Samoa|        31|         0|       31|\n",
            "+---------+--------------+----------+----------+---------+\n",
            "\n"
          ]
        }
      ]
    },
    {
      "cell_type": "markdown",
      "source": [
        "### 9 - Qual a maior goleada?\n",
        "\n",
        "\n",
        "R: A maior goleada foi também com o maior número de gols foi um jogo de Austrália vs Samoa Americana em que a Austrália ganhou de 31 a 0."
      ],
      "metadata": {
        "id": "d1rvXcy6T3v-"
      }
    },
    {
      "cell_type": "code",
      "source": [
        "# Calculando a a maior diferenca entre gols\n",
        "df_with_diff = df.withColumn(\"score_diff\", F.abs(df[\"home_score\"] - df[\"away_score\"]))\n",
        "\n",
        "# Encontrando a linha com a maior diferenca\n",
        "max_diff_row = df_with_diff.orderBy(F.desc(\"score_diff\")).first()\n",
        "\n",
        "# extraindo a maior goleada\n",
        "max_diff = max_diff_row[\"score_diff\"]\n",
        "\n",
        "print(\"Maior diferença de gols:\", max_diff)"
      ],
      "metadata": {
        "colab": {
          "base_uri": "https://localhost:8080/"
        },
        "id": "LI_6sLLlToco",
        "outputId": "4ed243bf-8396-4f38-f3b6-08fb2ed82b57"
      },
      "execution_count": 34,
      "outputs": [
        {
          "output_type": "stream",
          "name": "stdout",
          "text": [
            "Maior diferença de gols: 31\n"
          ]
        }
      ]
    },
    {
      "cell_type": "markdown",
      "source": [
        "### 10 - Quantos jogos ocorreram no Brasil?\n",
        "\n",
        "R: Ocorreram 529 jogos no Brasil."
      ],
      "metadata": {
        "id": "gad10-8zVNQL"
      }
    },
    {
      "cell_type": "code",
      "source": [
        "df.filter(df.country == 'Brazil').count()"
      ],
      "metadata": {
        "colab": {
          "base_uri": "https://localhost:8080/"
        },
        "id": "PshayHWrT6iJ",
        "outputId": "c509caea-bd0b-4b7d-c4eb-ba85584c42eb"
      },
      "execution_count": 40,
      "outputs": [
        {
          "output_type": "execute_result",
          "data": {
            "text/plain": [
              "529"
            ]
          },
          "metadata": {},
          "execution_count": 40
        }
      ]
    }
  ]
}