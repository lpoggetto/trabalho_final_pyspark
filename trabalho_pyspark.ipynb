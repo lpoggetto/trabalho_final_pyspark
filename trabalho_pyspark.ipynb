{
  "nbformat": 4,
  "nbformat_minor": 0,
  "metadata": {
    "colab": {
      "provenance": [],
      "authorship_tag": "ABX9TyPpJGmM2WzuZcSglZoc5d9P",
      "include_colab_link": true
    },
    "kernelspec": {
      "name": "python3",
      "display_name": "Python 3"
    },
    "language_info": {
      "name": "python"
    }
  },
  "cells": [
    {
      "cell_type": "markdown",
      "metadata": {
        "id": "view-in-github",
        "colab_type": "text"
      },
      "source": [
        "<a href=\"https://colab.research.google.com/github/lpoggetto/trabalho_final_pyspark/blob/main/trabalho_pyspark.ipynb\" target=\"_parent\"><img src=\"https://colab.research.google.com/assets/colab-badge.svg\" alt=\"Open In Colab\"/></a>"
      ]
    },
    {
      "cell_type": "code",
      "source": [
        "# Instalando spark\n",
        "!pip install pyspark==3.3.1\n",
        "# importando pacotes necessarios\n",
        "import pandas as pd\n",
        "import numpy as np\n",
        "import pyspark.pandas as ps\n",
        "from pyspark.sql import SparkSession"
      ],
      "metadata": {
        "colab": {
          "base_uri": "https://localhost:8080/"
        },
        "id": "gZhN84jrIXRX",
        "outputId": "2a054a06-d40e-4626-b986-033de89e63b7"
      },
      "execution_count": 1,
      "outputs": [
        {
          "output_type": "stream",
          "name": "stdout",
          "text": [
            "Requirement already satisfied: pyspark==3.3.1 in /usr/local/lib/python3.10/dist-packages (3.3.1)\n",
            "Requirement already satisfied: py4j==0.10.9.5 in /usr/local/lib/python3.10/dist-packages (from pyspark==3.3.1) (0.10.9.5)\n"
          ]
        },
        {
          "output_type": "stream",
          "name": "stderr",
          "text": [
            "WARNING:root:'PYARROW_IGNORE_TIMEZONE' environment variable was not set. It is required to set this environment variable to '1' in both driver and executor sides if you use pyarrow>=2.0.0. pandas-on-Spark will set it for you but it does not work if there is a Spark context already launched.\n"
          ]
        }
      ]
    },
    {
      "cell_type": "code",
      "source": [
        "# iniciando sessao do spark\n",
        "spark = SparkSession.builder \\\n",
        "    .master('local[*]') \\\n",
        "    .appName('Analise de jogos internacionais de futebo') \\\n",
        "    .config('spark.ui.port', '4050') \\\n",
        "    .getOrCreate()"
      ],
      "metadata": {
        "id": "6_6Z7E8OIwyz"
      },
      "execution_count": 2,
      "outputs": []
    },
    {
      "cell_type": "code",
      "source": [
        "# checando sessao\n",
        "spark"
      ],
      "metadata": {
        "colab": {
          "base_uri": "https://localhost:8080/",
          "height": 221
        },
        "id": "x9GG4oxzIyMb",
        "outputId": "bff0f9c3-a562-4562-99f7-a3929e85210a"
      },
      "execution_count": 4,
      "outputs": [
        {
          "output_type": "execute_result",
          "data": {
            "text/plain": [
              "<pyspark.sql.session.SparkSession at 0x7f99ba78f3a0>"
            ],
            "text/html": [
              "\n",
              "            <div>\n",
              "                <p><b>SparkSession - in-memory</b></p>\n",
              "                \n",
              "        <div>\n",
              "            <p><b>SparkContext</b></p>\n",
              "\n",
              "            <p><a href=\"http://3194823f36c8:4050\">Spark UI</a></p>\n",
              "\n",
              "            <dl>\n",
              "              <dt>Version</dt>\n",
              "                <dd><code>v3.3.1</code></dd>\n",
              "              <dt>Master</dt>\n",
              "                <dd><code>local[*]</code></dd>\n",
              "              <dt>AppName</dt>\n",
              "                <dd><code>Analise de jogos internacionais de futebo</code></dd>\n",
              "            </dl>\n",
              "        </div>\n",
              "        \n",
              "            </div>\n",
              "        "
            ]
          },
          "metadata": {},
          "execution_count": 4
        }
      ]
    },
    {
      "cell_type": "code",
      "source": [
        "# Lendo o csv com pandas\n",
        "pandas_df = pd.read_csv('/content/dados_trab.csv')\n",
        "\n",
        "# convertendo o arquivo para PySpark\n",
        "df = spark.createDataFrame(pandas_df.to_dict(orient = 'records'))\n",
        "df"
      ],
      "metadata": {
        "colab": {
          "base_uri": "https://localhost:8080/"
        },
        "id": "DYCVBBhjI1Qy",
        "outputId": "e5c4d193-06ec-4bcd-cfeb-cd6a24618522"
      },
      "execution_count": 6,
      "outputs": [
        {
          "output_type": "execute_result",
          "data": {
            "text/plain": [
              "DataFrame[away_score: bigint, away_team: string, city: string, country: string, date: string, home_score: bigint, home_team: string, neutral: boolean, tournament: string]"
            ]
          },
          "metadata": {},
          "execution_count": 6
        }
      ]
    },
    {
      "cell_type": "code",
      "source": [
        "df.show()"
      ],
      "metadata": {
        "colab": {
          "base_uri": "https://localhost:8080/"
        },
        "id": "aT8iYABsJum4",
        "outputId": "bbc0d1d6-cd87-4c46-abbe-44f003c2b16f"
      },
      "execution_count": 7,
      "outputs": [
        {
          "output_type": "stream",
          "name": "stdout",
          "text": [
            "+----------+---------+---------+-------------------+----------+----------+----------------+-------+----------+\n",
            "|away_score|away_team|     city|            country|      date|home_score|       home_team|neutral|tournament|\n",
            "+----------+---------+---------+-------------------+----------+----------+----------------+-------+----------+\n",
            "|         0|  England|  Glasgow|           Scotland|1872-11-30|         0|        Scotland|  false|  Friendly|\n",
            "|         2| Scotland|   London|            England|1873-03-08|         4|         England|  false|  Friendly|\n",
            "|         1|  England|  Glasgow|           Scotland|1874-03-07|         2|        Scotland|  false|  Friendly|\n",
            "|         2| Scotland|   London|            England|1875-03-06|         2|         England|  false|  Friendly|\n",
            "|         0|  England|  Glasgow|           Scotland|1876-03-04|         3|        Scotland|  false|  Friendly|\n",
            "|         0|    Wales|  Glasgow|           Scotland|1876-03-25|         4|        Scotland|  false|  Friendly|\n",
            "|         3| Scotland|   London|            England|1877-03-03|         1|         England|  false|  Friendly|\n",
            "|         2| Scotland|  Wrexham|              Wales|1877-03-05|         0|           Wales|  false|  Friendly|\n",
            "|         2|  England|  Glasgow|           Scotland|1878-03-02|         7|        Scotland|  false|  Friendly|\n",
            "|         0|    Wales|  Glasgow|           Scotland|1878-03-23|         9|        Scotland|  false|  Friendly|\n",
            "|         1|    Wales|   London|            England|1879-01-18|         2|         England|  false|  Friendly|\n",
            "|         4| Scotland|   London|            England|1879-04-05|         5|         England|  false|  Friendly|\n",
            "|         3| Scotland|  Wrexham|              Wales|1879-04-07|         0|           Wales|  false|  Friendly|\n",
            "|         4|  England|  Glasgow|           Scotland|1880-03-13|         5|        Scotland|  false|  Friendly|\n",
            "|         3|  England|  Wrexham|              Wales|1880-03-15|         2|           Wales|  false|  Friendly|\n",
            "|         1|    Wales|  Glasgow|           Scotland|1880-03-27|         5|        Scotland|  false|  Friendly|\n",
            "|         1|    Wales|Blackburn|            England|1881-02-26|         0|         England|  false|  Friendly|\n",
            "|         6| Scotland|   London|            England|1881-03-12|         1|         England|  false|  Friendly|\n",
            "|         5| Scotland|  Wrexham|              Wales|1881-03-14|         1|           Wales|  false|  Friendly|\n",
            "|        13|  England|  Belfast|Republic of Ireland|1882-02-18|         0|Northern Ireland|  false|  Friendly|\n",
            "+----------+---------+---------+-------------------+----------+----------+----------------+-------+----------+\n",
            "only showing top 20 rows\n",
            "\n"
          ]
        }
      ]
    },
    {
      "cell_type": "code",
      "source": [
        "df.printSchema()"
      ],
      "metadata": {
        "colab": {
          "base_uri": "https://localhost:8080/"
        },
        "id": "4G4Z9amYKwMp",
        "outputId": "2c66badd-7225-4a36-b65b-f23d718455da"
      },
      "execution_count": 8,
      "outputs": [
        {
          "output_type": "stream",
          "name": "stdout",
          "text": [
            "root\n",
            " |-- away_score: long (nullable = true)\n",
            " |-- away_team: string (nullable = true)\n",
            " |-- city: string (nullable = true)\n",
            " |-- country: string (nullable = true)\n",
            " |-- date: string (nullable = true)\n",
            " |-- home_score: long (nullable = true)\n",
            " |-- home_team: string (nullable = true)\n",
            " |-- neutral: boolean (nullable = true)\n",
            " |-- tournament: string (nullable = true)\n",
            "\n"
          ]
        }
      ]
    },
    {
      "cell_type": "code",
      "source": [],
      "metadata": {
        "id": "EMH_Vs9BKxXP"
      },
      "execution_count": null,
      "outputs": []
    }
  ]
}